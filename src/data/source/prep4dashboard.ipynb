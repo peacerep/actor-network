{
 "cells": [
  {
   "cell_type": "markdown",
   "id": "6a457312-0207-4ff3-b47e-3e1e450fdaae",
   "metadata": {},
   "source": [
    "# Preparation for Global Peace Actor Dashboard\n",
    "\n",
    "1. Read in all data: all actors + country files\n",
    "2. all actors file to json\n",
    "3. country files cleaning"
   ]
  },
  {
   "cell_type": "code",
   "execution_count": 6,
   "id": "17fd0fa1-7d52-41c2-a185-15a9bf1105e2",
   "metadata": {},
   "outputs": [
    {
     "name": "stdout",
     "output_type": "stream",
     "text": [
      "          country abbr                  all_agt_file  \\\n",
      "0          Russia  RUS  all_agts_with_Russia_new.csv   \n",
      "1  United Kingdom  UKG      all_agts_with_uk_new.csv   \n",
      "\n",
      "                        all_actor_file  \n",
      "0  actors_info_in_agts_with_Russia.csv  \n",
      "1      actors_info_in_agts_with_UK.csv  \n"
     ]
    }
   ],
   "source": [
    "import os\n",
    "import pandas as pd\n",
    "\n",
    "file_table = './country_files.csv'\n",
    "table_df = pd.read_csv(file_table)\n",
    "print(table_df)"
   ]
  },
  {
   "cell_type": "markdown",
   "id": "4547c692-cff9-4c84-b03b-046bd80623c0",
   "metadata": {},
   "source": [
    "### Clean and export agt json file\n",
    "1. pick out the column for constructing network schema\n",
    "2. format ['AgtId'] and ['Date']\n",
    "3. add a target_type column, which has the same value of 'signatory', this column acts the same as ['Type']='Agreement'"
   ]
  },
  {
   "cell_type": "code",
   "execution_count": 23,
   "id": "0f2e9346-468c-4a42-a611-a265e61f248b",
   "metadata": {},
   "outputs": [],
   "source": [
    "for index, row in table_df.iterrows():\n",
    "    agt_df = pd.read_csv(f'./{row[\"all_agt_file\"]}')\n",
    "    \n",
    "    columns_to_network = [\n",
    "        'AgtId', \n",
    "        'Agt', \n",
    "        'short_agt_name', \n",
    "        \"description\", \n",
    "        \"Type\", \n",
    "        \"PPName\", \n",
    "        \"agt_type\",\n",
    "        \"stage_label\", \n",
    "        \"date\", \n",
    "        \"year\", \n",
    "        \"signatory_type\", \n",
    "        \"actor_name\", \n",
    "        \"actor_type\", \n",
    "        \"additional_info\", \n",
    "        \"PAX_Hyperlink\"\n",
    "    ]\n",
    "    \n",
    "    network_df = agt_df[columns_to_network].copy()\n",
    "\n",
    "    # AgtId from float to int\n",
    "    if 'AgtId' in network_df.columns:\n",
    "        network_df['AgtId'] = network_df['AgtId'].fillna(0).astype(int)\n",
    "    \n",
    "    # Date\n",
    "    if 'date' in network_df.columns:\n",
    "        network_df['date'] = pd.to_datetime(network_df['date'])\n",
    "        network_df['date'] = network_df['date'].dt.strftime('%d/%m/%Y')\n",
    "    \n",
    "    # \"signatory_type\" with the value \"signatory\"\n",
    "    network_df['target_type'] = 'signatory'\n",
    "    \n",
    "    # export to json\n",
    "    network_df.to_json(f'../{row[\"abbr\"]}_agt.json', orient='records', indent=2)"
   ]
  },
  {
   "cell_type": "markdown",
   "id": "19071664-8a11-464a-81ee-01ae306fe3a2",
   "metadata": {},
   "source": [
    "### Clean and export actor info json file"
   ]
  },
  {
   "cell_type": "code",
   "execution_count": 25,
   "id": "6f10d18b-d6bf-49f0-a895-abbc6f621c74",
   "metadata": {},
   "outputs": [],
   "source": [
    "for index, row in table_df.iterrows():\n",
    "    actor_df = pd.read_csv(f'./{row[\"all_actor_file\"]}')\n",
    "    \n",
    "    # columns_to_network = []\n",
    "    # actor_df = actor_df[columns_to_network]\n",
    "    \n",
    "    # export to json\n",
    "    actor_df.to_json(f'../{row[\"abbr\"]}_actor.json', orient='records', indent=2)"
   ]
  },
  {
   "cell_type": "code",
   "execution_count": null,
   "id": "557d4ddc-0a41-439c-9109-7030f1610971",
   "metadata": {},
   "outputs": [],
   "source": []
  }
 ],
 "metadata": {
  "kernelspec": {
   "display_name": "Python 3 (ipykernel)",
   "language": "python",
   "name": "python3"
  },
  "language_info": {
   "codemirror_mode": {
    "name": "ipython",
    "version": 3
   },
   "file_extension": ".py",
   "mimetype": "text/x-python",
   "name": "python",
   "nbconvert_exporter": "python",
   "pygments_lexer": "ipython3",
   "version": "3.11.3"
  }
 },
 "nbformat": 4,
 "nbformat_minor": 5
}
