{
 "cells": [
  {
   "cell_type": "code",
   "execution_count": 1,
   "id": "febd13ec",
   "metadata": {},
   "outputs": [],
   "source": [
    "# Initiate\n",
    "import os\n",
    "import pandas as pd"
   ]
  },
  {
   "cell_type": "code",
   "execution_count": 2,
   "id": "e1c415b4",
   "metadata": {},
   "outputs": [
    {
     "name": "stdout",
     "output_type": "stream",
     "text": [
      "First few rows of the DataFrame:\n",
      "   signatory_id  AgtId                                   Agt  \\\n",
      "0            32      5  UN Security Council Resolution 1244    \n",
      "1            34      5  UN Security Council Resolution 1244    \n",
      "\n",
      "                                 short_agt_name  \\\n",
      "0  Framework-substantive, partial, 10 June 1999   \n",
      "1  Framework-substantive, partial, 10 June 1999   \n",
      "\n",
      "                                       long_agt_name  \\\n",
      "0  UN Security Council Resolution 1244  (10 June ...   \n",
      "1  UN Security Council Resolution 1244  (10 June ...   \n",
      "\n",
      "                                         description             Type   PP  \\\n",
      "0  This resolution authorises the deployment of a...  Peace Agreement  129   \n",
      "1  This resolution authorises the deployment of a...  Peace Agreement  129   \n",
      "\n",
      "           PPName                                Con  ... ucdp_id  \\\n",
      "0  Kosovo process  Kosovo/Serbia/Yugoslavia (former)  ...    26.0   \n",
      "1  Kosovo process  Kosovo/Serbia/Yugoslavia (former)  ...    30.0   \n",
      "\n",
      "                     in_ucdp                             acled_name  \\\n",
      "0    Government of Argentina        Government of Argentina (2019-)   \n",
      "1  Government of Netherlands  Government of the Netherlands (2010-)   \n",
      "\n",
      "                                         acled_other  \\\n",
      "0  Government of Argentina (2015-2019) | Governme...   \n",
      "1              Government of the Netherlands (2010-)   \n",
      "\n",
      "                                   alternative_names  \\\n",
      "0  Argentina | ARGENTINA | Argentina | Argentine ...   \n",
      "1  Netherlands | NETHERLANDS | Kingdom Netherland...   \n",
      "\n",
      "                              additional_info  \\\n",
      "0  Argentina is a Country/State in Americas.    \n",
      "1  Netherlands is a Country/State in Europe.    \n",
      "\n",
      "                            PAX_Hyperlink  \\\n",
      "0  https://www.peaceagreements.org/view/5   \n",
      "1  https://www.peaceagreements.org/view/5   \n",
      "\n",
      "                                       PDF_Hyperlink  \\\n",
      "0  https://www.peaceagreements.org/viewmasterdocu...   \n",
      "1  https://www.peaceagreements.org/viewmasterdocu...   \n",
      "\n",
      "                                      PA-X Page html  \\\n",
      "0  <a href=\"https://www.peaceagreements.org/view/...   \n",
      "1  <a href=\"https://www.peaceagreements.org/view/...   \n",
      "\n",
      "                                  Agreement PDF html  \n",
      "0  <a href=\"https://www.peaceagreements.org/viewm...  \n",
      "1  <a href=\"https://www.peaceagreements.org/viewm...  \n",
      "\n",
      "[2 rows x 47 columns]\n"
     ]
    }
   ],
   "source": [
    "# Source data file path\n",
    "link_table_path = 'all_agts_with_UK.csv'\n",
    "\n",
    "# Read the CSV\n",
    "try:\n",
    "    df = pd.read_csv(link_table_path)\n",
    "    \n",
    "    # Now you can work with the DataFrame 'df'\n",
    "    print(\"First few rows of the DataFrame:\")\n",
    "    print(df.head(2))\n",
    "    \n",
    "    # access any column\n",
    "    # print(\"Values in the 'column_name' column:\")\n",
    "    # print(df['AgtId'])\n",
    "    \n",
    "except FileNotFoundError:\n",
    "    print(\"CSV file not found at the specified path.\")"
   ]
  },
  {
   "cell_type": "code",
   "execution_count": 5,
   "id": "0ad9f286",
   "metadata": {},
   "outputs": [
    {
     "ename": "KeyError",
     "evalue": "\"['old_actor_type'] not in index\"",
     "output_type": "error",
     "traceback": [
      "\u001b[0;31m---------------------------------------------------------------------------\u001b[0m",
      "\u001b[0;31mKeyError\u001b[0m                                  Traceback (most recent call last)",
      "Cell \u001b[0;32mIn[5], line 5\u001b[0m\n\u001b[1;32m      2\u001b[0m columns_to_network \u001b[38;5;241m=\u001b[39m [\u001b[38;5;124m'\u001b[39m\u001b[38;5;124mAgtId\u001b[39m\u001b[38;5;124m'\u001b[39m, \u001b[38;5;124m'\u001b[39m\u001b[38;5;124mAgt\u001b[39m\u001b[38;5;124m'\u001b[39m, \u001b[38;5;124m'\u001b[39m\u001b[38;5;124mshort_agt_name\u001b[39m\u001b[38;5;124m'\u001b[39m, \u001b[38;5;124m\"\u001b[39m\u001b[38;5;124mdescription\u001b[39m\u001b[38;5;124m\"\u001b[39m, \u001b[38;5;124m\"\u001b[39m\u001b[38;5;124mType\u001b[39m\u001b[38;5;124m\"\u001b[39m, \u001b[38;5;124m\"\u001b[39m\u001b[38;5;124mPPName\u001b[39m\u001b[38;5;124m\"\u001b[39m, \u001b[38;5;124m\"\u001b[39m\u001b[38;5;124mstage_label\u001b[39m\u001b[38;5;124m\"\u001b[39m, \u001b[38;5;124m\"\u001b[39m\u001b[38;5;124mdate\u001b[39m\u001b[38;5;124m\"\u001b[39m, \u001b[38;5;124m\"\u001b[39m\u001b[38;5;124myear\u001b[39m\u001b[38;5;124m\"\u001b[39m, \u001b[38;5;124m\"\u001b[39m\u001b[38;5;124mactor\u001b[39m\u001b[38;5;124m\"\u001b[39m, \u001b[38;5;124m\"\u001b[39m\u001b[38;5;124mold_actor_type\u001b[39m\u001b[38;5;124m\"\u001b[39m, \u001b[38;5;124m\"\u001b[39m\u001b[38;5;124madditional_info\u001b[39m\u001b[38;5;124m\"\u001b[39m, \u001b[38;5;124m\"\u001b[39m\u001b[38;5;124mPAX_Hyperlink\u001b[39m\u001b[38;5;124m\"\u001b[39m]\n\u001b[1;32m      4\u001b[0m \u001b[38;5;66;03m# Create a new DataFrame for network\u001b[39;00m\n\u001b[0;32m----> 5\u001b[0m network_df \u001b[38;5;241m=\u001b[39m df[columns_to_network]\n\u001b[1;32m      7\u001b[0m \u001b[38;5;66;03m# Add a new column \"signatory_type\" with the value \"signatory\"\u001b[39;00m\n\u001b[1;32m      8\u001b[0m network_df[\u001b[38;5;124m'\u001b[39m\u001b[38;5;124mtarget_type\u001b[39m\u001b[38;5;124m'\u001b[39m] \u001b[38;5;241m=\u001b[39m \u001b[38;5;124m'\u001b[39m\u001b[38;5;124msignatory\u001b[39m\u001b[38;5;124m'\u001b[39m\n",
      "File \u001b[0;32m~/anaconda3/lib/python3.11/site-packages/pandas/core/frame.py:3813\u001b[0m, in \u001b[0;36mDataFrame.__getitem__\u001b[0;34m(self, key)\u001b[0m\n\u001b[1;32m   3811\u001b[0m     \u001b[38;5;28;01mif\u001b[39;00m is_iterator(key):\n\u001b[1;32m   3812\u001b[0m         key \u001b[38;5;241m=\u001b[39m \u001b[38;5;28mlist\u001b[39m(key)\n\u001b[0;32m-> 3813\u001b[0m     indexer \u001b[38;5;241m=\u001b[39m \u001b[38;5;28mself\u001b[39m\u001b[38;5;241m.\u001b[39mcolumns\u001b[38;5;241m.\u001b[39m_get_indexer_strict(key, \u001b[38;5;124m\"\u001b[39m\u001b[38;5;124mcolumns\u001b[39m\u001b[38;5;124m\"\u001b[39m)[\u001b[38;5;241m1\u001b[39m]\n\u001b[1;32m   3815\u001b[0m \u001b[38;5;66;03m# take() does not accept boolean indexers\u001b[39;00m\n\u001b[1;32m   3816\u001b[0m \u001b[38;5;28;01mif\u001b[39;00m \u001b[38;5;28mgetattr\u001b[39m(indexer, \u001b[38;5;124m\"\u001b[39m\u001b[38;5;124mdtype\u001b[39m\u001b[38;5;124m\"\u001b[39m, \u001b[38;5;28;01mNone\u001b[39;00m) \u001b[38;5;241m==\u001b[39m \u001b[38;5;28mbool\u001b[39m:\n",
      "File \u001b[0;32m~/anaconda3/lib/python3.11/site-packages/pandas/core/indexes/base.py:6070\u001b[0m, in \u001b[0;36mIndex._get_indexer_strict\u001b[0;34m(self, key, axis_name)\u001b[0m\n\u001b[1;32m   6067\u001b[0m \u001b[38;5;28;01melse\u001b[39;00m:\n\u001b[1;32m   6068\u001b[0m     keyarr, indexer, new_indexer \u001b[38;5;241m=\u001b[39m \u001b[38;5;28mself\u001b[39m\u001b[38;5;241m.\u001b[39m_reindex_non_unique(keyarr)\n\u001b[0;32m-> 6070\u001b[0m \u001b[38;5;28mself\u001b[39m\u001b[38;5;241m.\u001b[39m_raise_if_missing(keyarr, indexer, axis_name)\n\u001b[1;32m   6072\u001b[0m keyarr \u001b[38;5;241m=\u001b[39m \u001b[38;5;28mself\u001b[39m\u001b[38;5;241m.\u001b[39mtake(indexer)\n\u001b[1;32m   6073\u001b[0m \u001b[38;5;28;01mif\u001b[39;00m \u001b[38;5;28misinstance\u001b[39m(key, Index):\n\u001b[1;32m   6074\u001b[0m     \u001b[38;5;66;03m# GH 42790 - Preserve name from an Index\u001b[39;00m\n",
      "File \u001b[0;32m~/anaconda3/lib/python3.11/site-packages/pandas/core/indexes/base.py:6133\u001b[0m, in \u001b[0;36mIndex._raise_if_missing\u001b[0;34m(self, key, indexer, axis_name)\u001b[0m\n\u001b[1;32m   6130\u001b[0m     \u001b[38;5;28;01mraise\u001b[39;00m \u001b[38;5;167;01mKeyError\u001b[39;00m(\u001b[38;5;124mf\u001b[39m\u001b[38;5;124m\"\u001b[39m\u001b[38;5;124mNone of [\u001b[39m\u001b[38;5;132;01m{\u001b[39;00mkey\u001b[38;5;132;01m}\u001b[39;00m\u001b[38;5;124m] are in the [\u001b[39m\u001b[38;5;132;01m{\u001b[39;00maxis_name\u001b[38;5;132;01m}\u001b[39;00m\u001b[38;5;124m]\u001b[39m\u001b[38;5;124m\"\u001b[39m)\n\u001b[1;32m   6132\u001b[0m not_found \u001b[38;5;241m=\u001b[39m \u001b[38;5;28mlist\u001b[39m(ensure_index(key)[missing_mask\u001b[38;5;241m.\u001b[39mnonzero()[\u001b[38;5;241m0\u001b[39m]]\u001b[38;5;241m.\u001b[39munique())\n\u001b[0;32m-> 6133\u001b[0m \u001b[38;5;28;01mraise\u001b[39;00m \u001b[38;5;167;01mKeyError\u001b[39;00m(\u001b[38;5;124mf\u001b[39m\u001b[38;5;124m\"\u001b[39m\u001b[38;5;132;01m{\u001b[39;00mnot_found\u001b[38;5;132;01m}\u001b[39;00m\u001b[38;5;124m not in index\u001b[39m\u001b[38;5;124m\"\u001b[39m)\n",
      "\u001b[0;31mKeyError\u001b[0m: \"['old_actor_type'] not in index\""
     ]
    }
   ],
   "source": [
    "# List all fields for creating networks\n",
    "columns_to_network = ['AgtId', 'Agt', 'short_agt_name', \"description\", \"Type\", \"PPName\", \"stage_label\", \"date\", \"year\", \"signatory_type\", \"actor\", \"old_actor_type\", \"additional_info\", \"PAX_Hyperlink\"]\n",
    "\n",
    "# Create a new DataFrame for network\n",
    "network_df = df[columns_to_network]\n",
    "\n",
    "# Add a new column \"signatory_type\" with the value \"signatory\"\n",
    "network_df['target_type'] = 'signatory'\n",
    "\n",
    "# Print the new DataFrame\n",
    "print(\"New DataFrame with selected columns:\")\n",
    "print(network_df.head(2))"
   ]
  },
  {
   "cell_type": "code",
   "execution_count": null,
   "id": "a0e02550",
   "metadata": {},
   "outputs": [],
   "source": []
  }
 ],
 "metadata": {
  "kernelspec": {
   "display_name": "Python 3 (ipykernel)",
   "language": "python",
   "name": "python3"
  },
  "language_info": {
   "codemirror_mode": {
    "name": "ipython",
    "version": 3
   },
   "file_extension": ".py",
   "mimetype": "text/x-python",
   "name": "python",
   "nbconvert_exporter": "python",
   "pygments_lexer": "ipython3",
   "version": "3.11.3"
  }
 },
 "nbformat": 4,
 "nbformat_minor": 5
}
